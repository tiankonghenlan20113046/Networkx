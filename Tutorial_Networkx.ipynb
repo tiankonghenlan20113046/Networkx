{
 "cells": [
  {
   "cell_type": "code",
   "execution_count": null,
   "metadata": {},
   "outputs": [
    {
     "name": "stdout",
     "output_type": "stream",
     "text": [
      "G.degree:[]\n",
      "G.degree:[(1, 0)]\n",
      "G.degree:[(1, 0), (2, 0), (3, 0)]\n",
      "H:\n",
      "G.degree:[(1, 0), (2, 0), (3, 0), (0, 0), (4, 0), (5, 0), (6, 0), (7, 0), (8, 0), (9, 0), (10, 0), (11, 0), (12, 0), (13, 0), (14, 0), (15, 0), (16, 0), (17, 0), (18, 0), (19, 0)]\n",
      "G.edges:[]\n",
      "G.degree:[(1, 0), (2, 0), (3, 0), (0, 0), (4, 0), (5, 0), (6, 0), (7, 0), (8, 0), (9, 0), (10, 0), (11, 0), (12, 0), (13, 0), (14, 0), (15, 0), (16, 0), (17, 0), (18, 0), (19, 0), (<networkx.classes.graph.Graph object at 0x000002983EF6A408>, 0)]\n",
      "G.edges:[]\n",
      "G.edges:[(1, 2)]\n",
      "G.edges:[(1, 2), (1, 3)]\n",
      "G.degree:[(1, 2), (2, 1), (3, 1), (0, 0), (4, 0), (5, 0), (6, 0), (7, 0), (8, 0), (9, 0), (10, 0), (11, 0), (12, 0), (13, 0), (14, 0), (15, 0), (16, 0), (17, 0), (18, 0), (19, 0), (<networkx.classes.graph.Graph object at 0x000002983EF6A408>, 0)]\n",
      "G.adg:{1: {2: {}, 3: {}}, 2: {1: {}}, 3: {1: {}}, 0: {}, 4: {}, 5: {}, 6: {}, 7: {}, 8: {}, 9: {}, 10: {}, 11: {}, 12: {}, 13: {}, 14: {}, 15: {}, 16: {}, 17: {}, 18: {}, 19: {}, <networkx.classes.graph.Graph object at 0x000002983EF6A408>: {}}\n",
      "G.name:\n",
      "H.edges:[(0, 1), (1, 2), (2, 3), (3, 4), (4, 5), (5, 6), (6, 7), (7, 8), (8, 9), (9, 10), (10, 11), (11, 12), (12, 13), (13, 14), (14, 15), (15, 16), (16, 17), (17, 18), (18, 19)]\n",
      "H.degree:[(0, 1), (1, 2), (2, 2), (3, 2), (4, 2), (5, 2), (6, 2), (7, 2), (8, 2), (9, 2), (10, 2), (11, 2), (12, 2), (13, 2), (14, 2), (15, 2), (16, 2), (17, 2), (18, 2), (19, 1)]\n",
      "G.edges[(1, 2), (1, 3), (3, 'm')]\n",
      "[(1, 2), (1, 3), (3, 'm')]\n"
     ]
    }
   ],
   "source": [
    "import networkx as nx\n",
    "\n",
    "G = nx.Graph()\n",
    "print(\"G.degree:\"+str(G.degree))\n",
    "G.add_node(1) #添加一个节点\n",
    "print(\"G.degree:\"+str(G.degree))\n",
    "G.add_nodes_from([2,3])#add node list\n",
    "print(\"G.degree:\"+str(G.degree))\n",
    "H = nx.path_graph(20)#线性连接点的路径图\n",
    "print(\"H:\"+str(H))\n",
    "G.add_nodes_from(H)\n",
    "print(\"G.degree:\"+str(G.degree))\n",
    "print(\"G.edges:\"+str(G.edges))\n",
    "G.add_node(H)\n",
    "print(\"G.degree:\"+str(G.degree))\n",
    "print(\"G.edges:\"+str(G.edges))\n",
    "G.add_edge(1,2)#单独增加一条边\n",
    "print(\"G.edges:\"+str(G.edges))\n",
    "G.add_edges_from([(1,2),(1,3)])\n",
    "print(\"G.edges:\"+str(G.edges))\n",
    "print(\"G.degree:\"+str(G.degree))\n",
    "print(\"G.adg:\"+str(G.adj))\n",
    "print(\"G.name:\"+str(G.name))\n",
    "\n",
    "G.add_edges_from(H.edges)\n",
    "print(\"H.edges:\"+str(H.edges))\n",
    "print(\"H.degree:\"+str(H.degree))\n",
    "G.clear()\n",
    "G.add_edges_from([(1,2),(1,3)])\n",
    "G.add_node(1)\n",
    "G.add_edge(1,2)\n",
    "G.add_node(\"spam\")\n",
    "G.add_nodes_from(\"spam\")\n",
    "G.add_edge(3,'m')\n",
    "list(G.edges)\n",
    "print(\"G.edges\"+str(G.edges))\n",
    "print(list(G.edges))\n",
    "\n",
    "G2 = nx.DiGraph(G)"
   ]
  },
  {
   "cell_type": "code",
   "execution_count": null,
   "metadata": {},
   "outputs": [],
   "source": []
  },
  {
   "cell_type": "code",
   "execution_count": 146,
   "metadata": {},
   "outputs": [],
   "source": [
    "import matplotlib.pyplot as plt"
   ]
  },
  {
   "cell_type": "code",
   "execution_count": 147,
   "metadata": {},
   "outputs": [
    {
     "data": {
      "text/plain": [
       "NodeView((1, 2, 3, 'spam', 's', 'p', 'a', 'm'))"
      ]
     },
     "execution_count": 147,
     "metadata": {},
     "output_type": "execute_result"
    }
   ],
   "source": [
    "G.nodes"
   ]
  },
  {
   "cell_type": "code",
   "execution_count": 148,
   "metadata": {},
   "outputs": [
    {
     "data": {
      "text/plain": [
       "EdgeView([(1, 2), (1, 3), (3, 'm')])"
      ]
     },
     "execution_count": 148,
     "metadata": {},
     "output_type": "execute_result"
    }
   ],
   "source": [
    "G.edges"
   ]
  },
  {
   "cell_type": "code",
   "execution_count": 149,
   "metadata": {},
   "outputs": [
    {
     "data": {
      "text/plain": [
       "<matplotlib.axes._subplots.AxesSubplot at 0x2983ed1d508>"
      ]
     },
     "execution_count": 149,
     "metadata": {},
     "output_type": "execute_result"
    },
    {
     "data": {
      "image/png": "[encoded data removed]",
      "text/plain": [
       "<Figure size 432x288 with 1 Axes>"
      ]
     },
     "metadata": {
      "needs_background": "light"
     },
     "output_type": "display_data"
    }
   ],
   "source": [
    "plt.subplot(122)"
   ]
  },
  {
   "cell_type": "code",
   "execution_count": 150,
   "metadata": {},
   "outputs": [
    {
     "data": {
      "image/png": "[encoded data removed]",
      "text/plain": [
       "<Figure size 432x288 with 1 Axes>"
      ]
     },
     "metadata": {},
     "output_type": "display_data"
    }
   ],
   "source": [
    "nx.draw(G,with_labels=True,font_weight=\"bold\")"
   ]
  },
  {
   "cell_type": "code",
   "execution_count": 151,
   "metadata": {},
   "outputs": [
    {
     "data": {
      "text/plain": [
       "<Figure size 432x288 with 0 Axes>"
      ]
     },
     "metadata": {},
     "output_type": "display_data"
    }
   ],
   "source": [
    "plt.savefig(\"test.png\")"
   ]
  },
  {
   "cell_type": "markdown",
   "metadata": {},
   "source": [
    "# .gxl图格式的转变"
   ]
  },
  {
   "cell_type": "code",
   "execution_count": 152,
   "metadata": {},
   "outputs": [],
   "source": [
    "d = {0:{1:1}}"
   ]
  },
  {
   "cell_type": "code",
   "execution_count": 153,
   "metadata": {},
   "outputs": [],
   "source": [
    "G = nx.Graph(d)"
   ]
  },
  {
   "cell_type": "code",
   "execution_count": 154,
   "metadata": {},
   "outputs": [],
   "source": [
    "nx.write_gml(G,'test.gml')"
   ]
  },
  {
   "cell_type": "markdown",
   "metadata": {},
   "source": [
    "显示生成的图"
   ]
  },
  {
   "cell_type": "code",
   "execution_count": 155,
   "metadata": {},
   "outputs": [
    {
     "data": {
      "image/png": "[encoded data removed]",
      "text/plain": [
       "<Figure size 432x288 with 1 Axes>"
      ]
     },
     "metadata": {},
     "output_type": "display_data"
    }
   ],
   "source": [
    "plt.subplot(122)\n",
    "nx.draw(G,with_labels=True,font_weight=\"bold\")\n",
    "plt.savefig(\"G_GUESS.png\")"
   ]
  },
  {
   "cell_type": "code",
   "execution_count": 156,
   "metadata": {},
   "outputs": [],
   "source": [
    "nx.write_gml(G,'test.gml')"
   ]
  },
  {
   "cell_type": "code",
   "execution_count": 157,
   "metadata": {},
   "outputs": [],
   "source": [
    "H = nx.read_gml('test.gml')"
   ]
  },
  {
   "cell_type": "code",
   "execution_count": 158,
   "metadata": {},
   "outputs": [
    {
     "data": {
      "text/plain": [
       "<networkx.classes.graph.Graph at 0x2983ed82248>"
      ]
     },
     "execution_count": 158,
     "metadata": {},
     "output_type": "execute_result"
    }
   ],
   "source": [
    "H"
   ]
  },
  {
   "cell_type": "code",
   "execution_count": 159,
   "metadata": {},
   "outputs": [
    {
     "data": {
      "image/png": "[encoded data removed]",
      "text/plain": [
       "<Figure size 432x288 with 1 Axes>"
      ]
     },
     "metadata": {},
     "output_type": "display_data"
    }
   ],
   "source": [
    "plt.subplot(122)\n",
    "nx.draw(G,with_labels=True,font_weight=\"bold\")\n",
    "plt.savefig(\"TEST_GMLS.png\")"
   ]
  },
  {
   "cell_type": "markdown",
   "metadata": {},
   "source": [
    "# 如何添加重复的标签？"
   ]
  },
  {
   "cell_type": "markdown",
   "metadata": {},
   "source": [
    "reference:https://cloud.tencent.com/developer/ask/209552"
   ]
  },
  {
   "cell_type": "code",
   "execution_count": 160,
   "metadata": {},
   "outputs": [],
   "source": [
    "user_input = \"abbccd\""
   ]
  },
  {
   "cell_type": "code",
   "execution_count": 161,
   "metadata": {},
   "outputs": [],
   "source": [
    "labels = {i: label for i , label in enumerate(user_input)} #用一个字典将节点标识符（唯一）映射到节点标签（可能不唯一），label是一个字典实例\n",
    "#for i , label in enumerate(user_input)功能：将可循环序列sequence以start开始分别列出序列数据和数据下标\n",
    "#即对一个可遍历的数据对象(如列表、元组或字符串)，enumerate会将该数据对象组合为一个索引序列，同时列出数据和数据下标\n"
   ]
  },
  {
   "cell_type": "code",
   "execution_count": 162,
   "metadata": {},
   "outputs": [],
   "source": [
    "nodes = labels.keys()"
   ]
  },
  {
   "cell_type": "code",
   "execution_count": 163,
   "metadata": {},
   "outputs": [
    {
     "data": {
      "text/plain": [
       "dict_values(['a', 'b', 'b', 'c', 'c', 'd'])"
      ]
     },
     "execution_count": 163,
     "metadata": {},
     "output_type": "execute_result"
    }
   ],
   "source": [
    "nodes_labels = labels.values()\n",
    "nodes_labels"
   ]
  },
  {
   "cell_type": "code",
   "execution_count": 164,
   "metadata": {},
   "outputs": [],
   "source": [
    "G = nx.DiGraph()"
   ]
  },
  {
   "cell_type": "code",
   "execution_count": 165,
   "metadata": {},
   "outputs": [],
   "source": [
    "G.add_nodes_from(nodes)"
   ]
  },
  {
   "cell_type": "code",
   "execution_count": 166,
   "metadata": {},
   "outputs": [],
   "source": [
    "pos = nx.spring_layout(G)"
   ]
  },
  {
   "cell_type": "code",
   "execution_count": 167,
   "metadata": {},
   "outputs": [
    {
     "data": {
      "image/png": "[encoded data removed]",
      "text/plain": [
       "<Figure size 432x288 with 1 Axes>"
      ]
     },
     "metadata": {},
     "output_type": "display_data"
    }
   ],
   "source": [
    "nx.draw(G,pos,with_labels=True,font_weight=\"bold\")"
   ]
  },
  {
   "cell_type": "markdown",
   "metadata": {},
   "source": [
    "例子："
   ]
  },
  {
   "cell_type": "code",
   "execution_count": 168,
   "metadata": {},
   "outputs": [
    {
     "data": {
      "image/png": "[encoded data removed]",
      "text/plain": [
       "<Figure size 432x288 with 1 Axes>"
      ]
     },
     "metadata": {},
     "output_type": "display_data"
    }
   ],
   "source": [
    "\n",
    "nodes_multiLabels=\"abbcc\"\n",
    "nodes_labels_dic ={i:label  for i ,label in enumerate(nodes_multiLabels)}\n",
    "nodes_id = nodes_labels_dic.keys()\n",
    "nodes_labels = nodes_labels_dic.values()\n",
    "G=nx.Graph()\n",
    "G.add_nodes_from(nodes_id)\n",
    "\n",
    "plt.subplot(121)\n",
    "pos = nx.spring_layout(G)\n",
    "nx.draw(G,with_labels=\"True\",font_weight=\"bold\")"
   ]
  },
  {
   "cell_type": "markdown",
   "metadata": {},
   "source": [
    "# 如何在加点上显示节点的label?"
   ]
  },
  {
   "cell_type": "code",
   "execution_count": 169,
   "metadata": {},
   "outputs": [
    {
     "data": {
      "image/png": "[encoded data removed]",
      "text/plain": [
       "<Figure size 432x288 with 1 Axes>"
      ]
     },
     "metadata": {},
     "output_type": "display_data"
    }
   ],
   "source": [
    "import networkx as nx;\n",
    "import matplotlib.pyplot as plt;\n",
    " \n",
    "#create the graph\n",
    "G = nx.Graph();\n",
    "G.add_edge(0,25,band=42,cost=6);\n",
    " \n",
    "pos=nx.spring_layout(G);\n",
    "nx.draw_spring(G);\n",
    "nx.draw_networkx_edge_labels(G,pos,font_size=10,alpha=0.5,rotate=True,with_labels=True);\n",
    " \n",
    "plt.show();"
   ]
  },
  {
   "cell_type": "code",
   "execution_count": 170,
   "metadata": {},
   "outputs": [
    {
     "data": {
      "image/png": "[encoded data removed]",
      "text/plain": [
       "<Figure size 432x288 with 1 Axes>"
      ]
     },
     "metadata": {},
     "output_type": "display_data"
    }
   ],
   "source": [
    "G = nx.dodecahedral_graph()\n",
    "labels = nx.draw_networkx_labels(G,pos=nx.spring_layout(G))"
   ]
  },
  {
   "cell_type": "code",
   "execution_count": 171,
   "metadata": {},
   "outputs": [
    {
     "data": {
      "text/plain": [
       "EdgeView([(0, 1), (0, 19), (0, 10), (1, 2), (1, 8), (2, 3), (2, 6), (3, 4), (3, 19), (4, 5), (4, 17), (5, 6), (5, 15), (6, 7), (7, 8), (7, 14), (8, 9), (9, 10), (9, 13), (10, 11), (11, 12), (11, 18), (12, 13), (12, 16), (13, 14), (14, 15), (15, 16), (16, 17), (17, 18), (18, 19)])"
      ]
     },
     "execution_count": 171,
     "metadata": {},
     "output_type": "execute_result"
    }
   ],
   "source": [
    "G.edges"
   ]
  },
  {
   "cell_type": "code",
   "execution_count": 172,
   "metadata": {},
   "outputs": [
    {
     "data": {
      "text/plain": [
       "NodeView((0, 1, 2, 3, 4, 5, 6, 7, 8, 9, 10, 11, 12, 13, 14, 15, 16, 17, 18, 19))"
      ]
     },
     "execution_count": 172,
     "metadata": {},
     "output_type": "execute_result"
    }
   ],
   "source": [
    "G.nodes"
   ]
  },
  {
   "cell_type": "code",
   "execution_count": 173,
   "metadata": {},
   "outputs": [
    {
     "data": {
      "text/plain": [
       "<matplotlib.axes._subplots.AxesSubplot at 0x2983f24bc08>"
      ]
     },
     "execution_count": 173,
     "metadata": {},
     "output_type": "execute_result"
    },
    {
     "data": {
      "image/png": "[encoded data removed]",
      "text/plain": [
       "<Figure size 432x288 with 1 Axes>"
      ]
     },
     "metadata": {
      "needs_background": "light"
     },
     "output_type": "display_data"
    }
   ],
   "source": [
    "plt.subplot(122)"
   ]
  },
  {
   "cell_type": "code",
   "execution_count": 174,
   "metadata": {},
   "outputs": [
    {
     "data": {
      "image/png": "[encoded data removed]",
      "text/plain": [
       "<Figure size 432x288 with 1 Axes>"
      ]
     },
     "metadata": {},
     "output_type": "display_data"
    }
   ],
   "source": [
    "nx.draw(G,with_labels=True,font_weight=\"bold\")"
   ]
  },
  {
   "cell_type": "markdown",
   "metadata": {},
   "source": [
    "# Python XML解析"
   ]
  },
  {
   "cell_type": "markdown",
   "metadata": {},
   "source": [
    "## 4.1 电影格式数据解析的例子"
   ]
  },
  {
   "cell_type": "code",
   "execution_count": 175,
   "metadata": {},
   "outputs": [
    {
     "name": "stdout",
     "output_type": "stream",
     "text": [
      "*****Movie*****\n",
      "Title:Enemy Behind\n",
      "Type:War, Thriller\n",
      "Format:DVD\n",
      "Year:,2003\n",
      "Rating:PG\n",
      "Stars:10\n",
      "Description:Talk about a US-Japan war\n",
      "*****Movie*****\n",
      "Title:Transformers\n",
      "Type:Anime, Science Fiction\n",
      "Format:DVD\n",
      "Year:,1989\n",
      "Rating:R\n",
      "Stars:8\n",
      "Description:A schientific fiction\n",
      "*****Movie*****\n",
      "Title:Trigun\n",
      "Type:Anime, Action\n",
      "Format:DVD\n",
      "Rating:PG\n",
      "Stars:10\n",
      "Description:Vash the Stampede!\n",
      "*****Movie*****\n",
      "Title:Ishtar\n",
      "Type:Comedy\n",
      "Format:VHS\n",
      "Rating:PG\n",
      "Stars:2\n",
      "Description:Viewable boredom\n"
     ]
    }
   ],
   "source": [
    "#!/usr/bin/python\n",
    "# -*- coding: UTF-8 -*-\n",
    " \n",
    "import xml.sax\n",
    " \n",
    "class MovieHandler( xml.sax.ContentHandler ):\n",
    "   def __init__(self):\n",
    "      self.CurrentData = \"\"\n",
    "      self.type = \"\"\n",
    "      self.format = \"\"\n",
    "      self.year = \"\"\n",
    "      self.rating = \"\"\n",
    "      self.stars = \"\"\n",
    "      self.description = \"\"\n",
    " \n",
    "   # 元素开始事件处理\n",
    "   def startElement(self, tag, attributes):\n",
    "      self.CurrentData = tag\n",
    "      if tag == \"movie\":\n",
    "         print (\"*****Movie*****\")\n",
    "         title = attributes[\"title\"]\n",
    "         print (\"Title:\"+str(title))\n",
    " \n",
    "   # 元素结束事件处理\n",
    "   def endElement(self, tag):\n",
    "      if self.CurrentData == \"type\":\n",
    "         print(\"Type:\"+str(self.type))\n",
    "      elif self.CurrentData == \"format\":\n",
    "         print (\"Format:\"+str(self.format))\n",
    "      elif self.CurrentData == \"year\":\n",
    "         print (\"Year:,\"+str(self.year))\n",
    "      elif self.CurrentData == \"rating\":\n",
    "         print (\"Rating:\"+str(self.rating))\n",
    "      elif self.CurrentData == \"stars\":\n",
    "         print (\"Stars:\"+str(self.stars))\n",
    "      elif self.CurrentData == \"description\":\n",
    "         print (\"Description:\"+str(self.description))\n",
    "      self.CurrentData = \"\"\n",
    " \n",
    "   # 内容事件处理\n",
    "   def characters(self, content):\n",
    "      if self.CurrentData == \"type\":\n",
    "         self.type = content\n",
    "      elif self.CurrentData == \"format\":\n",
    "         self.format = content\n",
    "      elif self.CurrentData == \"year\":\n",
    "         self.year = content\n",
    "      elif self.CurrentData == \"rating\":\n",
    "         self.rating = content\n",
    "      elif self.CurrentData == \"stars\":\n",
    "         self.stars = content\n",
    "      elif self.CurrentData == \"description\":\n",
    "         self.description = content\n",
    "  \n",
    "if ( __name__ == \"__main__\"):\n",
    "   \n",
    "   # 创建一个 XMLReader\n",
    "   parser = xml.sax.make_parser()\n",
    "   # turn off namepsaces\n",
    "   parser.setFeature(xml.sax.handler.feature_namespaces, 0)\n",
    " \n",
    "   # 重写 ContextHandler\n",
    "   Handler = MovieHandler()\n",
    "   parser.setContentHandler( Handler )\n",
    "   \n",
    "   parser.parse(\"movies.xml\")"
   ]
  },
  {
   "cell_type": "markdown",
   "metadata": {},
   "source": [
    "## sparsing .gxl file"
   ]
  },
  {
   "cell_type": "code",
   "execution_count": 176,
   "metadata": {},
   "outputs": [
    {
     "name": "stdout",
     "output_type": "stream",
     "text": [
      "*****Movie*****\n",
      "Title:Enemy Behind\n",
      "Type:War, Thriller\n",
      "Format:DVD\n",
      "Year:,2003\n",
      "Rating:PG\n",
      "Stars:10\n",
      "Description:Talk about a US-Japan war\n",
      "*****Movie*****\n",
      "Title:Transformers\n",
      "Type:Anime, Science Fiction\n",
      "Format:DVD\n",
      "Year:,1989\n",
      "Rating:R\n",
      "Stars:8\n",
      "Description:A schientific fiction\n",
      "*****Movie*****\n",
      "Title:Trigun\n",
      "Type:Anime, Action\n",
      "Format:DVD\n",
      "Rating:PG\n",
      "Stars:10\n",
      "Description:Vash the Stampede!\n",
      "*****Movie*****\n",
      "Title:Ishtar\n",
      "Type:Comedy\n",
      "Format:VHS\n",
      "Rating:PG\n",
      "Stars:2\n",
      "Description:Viewable boredom\n"
     ]
    }
   ],
   "source": [
    "#!/usr/bin/python\n",
    "# -*- coding: UTF-8 -*-\n",
    " \n",
    "import xml.sax\n",
    " \n",
    "class MovieHandler( xml.sax.ContentHandler ):\n",
    "   def __init__(self):\n",
    "      self.CurrentData = \"\"\n",
    "      self.type = \"\"\n",
    "      self.format = \"\"\n",
    "      self.year = \"\"\n",
    "      self.rating = \"\"\n",
    "      self.stars = \"\"\n",
    "      self.description = \"\"\n",
    " \n",
    "   # 元素开始事件处理\n",
    "   def startElement(self, tag, attributes):\n",
    "      self.CurrentData = tag\n",
    "      if tag == \"movie\":\n",
    "         print (\"*****Movie*****\")\n",
    "         title = attributes[\"title\"]\n",
    "         print (\"Title:\"+str(title))\n",
    " \n",
    "   # 元素结束事件处理\n",
    "   def endElement(self, tag):\n",
    "      if self.CurrentData == \"type\":\n",
    "         print(\"Type:\"+str(self.type))\n",
    "      elif self.CurrentData == \"format\":\n",
    "         print (\"Format:\"+str(self.format))\n",
    "      elif self.CurrentData == \"year\":\n",
    "         print (\"Year:,\"+str(self.year))\n",
    "      elif self.CurrentData == \"rating\":\n",
    "         print (\"Rating:\"+str(self.rating))\n",
    "      elif self.CurrentData == \"stars\":\n",
    "         print (\"Stars:\"+str(self.stars))\n",
    "      elif self.CurrentData == \"description\":\n",
    "         print (\"Description:\"+str(self.description))\n",
    "      self.CurrentData = \"\"\n",
    " \n",
    "   # 内容事件处理\n",
    "   def characters(self, content):\n",
    "      if self.CurrentData == \"type\":\n",
    "         self.type = content\n",
    "      elif self.CurrentData == \"format\":\n",
    "         self.format = content\n",
    "      elif self.CurrentData == \"year\":\n",
    "         self.year = content\n",
    "      elif self.CurrentData == \"rating\":\n",
    "         self.rating = content\n",
    "      elif self.CurrentData == \"stars\":\n",
    "         self.stars = content\n",
    "      elif self.CurrentData == \"description\":\n",
    "         self.description = content\n",
    "  \n",
    "if ( __name__ == \"__main__\"):\n",
    "   \n",
    "   # 创建一个 XMLReader\n",
    "   parser = xml.sax.make_parser()\n",
    "   # turn off namepsaces\n",
    "   parser.setFeature(xml.sax.handler.feature_namespaces, 0)\n",
    " \n",
    "   # 重写 ContextHandler\n",
    "   Handler = MovieHandler()\n",
    "   parser.setContentHandler( Handler )\n",
    "   \n",
    "   parser.parse(\"movies.xml\")"
   ]
  },
  {
   "cell_type": "code",
   "execution_count": 177,
   "metadata": {},
   "outputs": [
    {
     "name": "stdout",
     "output_type": "stream",
     "text": [
      "nodeName:gxl\n",
      "root.nodeValue:None\n",
      "root.nodeType:1\n"
     ]
    }
   ],
   "source": [
    "from xml.dom import minidom\n",
    "#1.导入模块\n",
    "dom=minidom.parse(\"100.xml\") #2.加载xml文件\n",
    "root=dom.documentElement       #3.获取dom对象元素\n",
    "print(\"nodeName:\"+str(root.nodeName))\n",
    "print(\"root.nodeValue:\"+str(root.nodeValue))\n",
    "print(\"root.nodeType:\"+str(root.nodeType))\n",
    "names = dom.getElementsByTagName(\"name\")\n",
    "for i in range(len(names)):\n",
    "    print(names[i].firstChild.data)#打印节点数据\n"
   ]
  },
  {
   "cell_type": "code",
   "execution_count": null,
   "metadata": {},
   "outputs": [
    {
     "name": "stdout",
     "output_type": "stream",
     "text": [
      "孙悟空\n",
      "猪八戒\n"
     ]
    }
   ],
   "source": [
    "from xml.dom import minidom #导入模块\n",
    "dom=minidom.parse(\"student.xml\") #打开xml\n",
    "names=dom.getElementsByTagName(\"name\") #获取节点列表\n",
    "for i in range(len(names)):\n",
    "    print(names[i].firstChild.data)   #打印节点数据\n",
    "\n",
    "\n"
   ]
  },
  {
   "cell_type": "code",
   "execution_count": null,
   "metadata": {},
   "outputs": [],
   "source": []
  }
 ],
 "metadata": {
  "kernelspec": {
   "display_name": "Python 3",
   "language": "python",
   "name": "python3"
  },
  "language_info": {
   "codemirror_mode": {
    "name": "ipython",
    "version": 3
   },
   "file_extension": ".py",
   "mimetype": "text/x-python",
   "name": "python",
   "nbconvert_exporter": "python",
   "pygments_lexer": "ipython3",
   "version": "3.7.4"
  },
  "toc": {
   "base_numbering": 1.0,
   "nav_menu": {},
   "number_sections": true,
   "sideBar": true,
   "skip_h1_title": false,
   "title_cell": "Table of Contents",
   "title_sidebar": "Contents",
   "toc_cell": false,
   "toc_position": {},
   "toc_section_display": true,
   "toc_window_display": true
  }
 },
 "nbformat": 4,
 "nbformat_minor": 1
}
