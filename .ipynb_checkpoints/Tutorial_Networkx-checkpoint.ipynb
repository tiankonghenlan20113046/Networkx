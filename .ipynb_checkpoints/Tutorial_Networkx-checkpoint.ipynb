{
 "cells": [
  {
   "cell_type": "code",
   "execution_count": 199,
   "metadata": {},
   "outputs": [
    {
     "name": "stdout",
     "output_type": "stream",
     "text": [
      "G.degree:[]\n",
      "G.degree:[(1, 0)]\n",
      "G.degree:[(1, 0), (2, 0), (3, 0)]\n",
      "H:\n",
      "G.degree:[(1, 0), (2, 0), (3, 0), (0, 0), (4, 0), (5, 0), (6, 0), (7, 0), (8, 0), (9, 0), (10, 0), (11, 0), (12, 0), (13, 0), (14, 0), (15, 0), (16, 0), (17, 0), (18, 0), (19, 0)]\n",
      "G.edges:[]\n",
      "G.degree:[(1, 0), (2, 0), (3, 0), (0, 0), (4, 0), (5, 0), (6, 0), (7, 0), (8, 0), (9, 0), (10, 0), (11, 0), (12, 0), (13, 0), (14, 0), (15, 0), (16, 0), (17, 0), (18, 0), (19, 0), (<networkx.classes.graph.Graph object at 0x000001B3215B76C8>, 0)]\n",
      "G.edges:[]\n",
      "G.edges:[(1, 2)]\n",
      "G.edges:[(1, 2), (1, 3)]\n",
      "G.degree:[(1, 2), (2, 1), (3, 1), (0, 0), (4, 0), (5, 0), (6, 0), (7, 0), (8, 0), (9, 0), (10, 0), (11, 0), (12, 0), (13, 0), (14, 0), (15, 0), (16, 0), (17, 0), (18, 0), (19, 0), (<networkx.classes.graph.Graph object at 0x000001B3215B76C8>, 0)]\n",
      "G.adg:{1: {2: {}, 3: {}}, 2: {1: {}}, 3: {1: {}}, 0: {}, 4: {}, 5: {}, 6: {}, 7: {}, 8: {}, 9: {}, 10: {}, 11: {}, 12: {}, 13: {}, 14: {}, 15: {}, 16: {}, 17: {}, 18: {}, 19: {}, <networkx.classes.graph.Graph object at 0x000001B3215B76C8>: {}}\n",
      "G.name:\n",
      "H.edges:[(0, 1), (1, 2), (2, 3), (3, 4), (4, 5), (5, 6), (6, 7), (7, 8), (8, 9), (9, 10), (10, 11), (11, 12), (12, 13), (13, 14), (14, 15), (15, 16), (16, 17), (17, 18), (18, 19)]\n",
      "H.degree:[(0, 1), (1, 2), (2, 2), (3, 2), (4, 2), (5, 2), (6, 2), (7, 2), (8, 2), (9, 2), (10, 2), (11, 2), (12, 2), (13, 2), (14, 2), (15, 2), (16, 2), (17, 2), (18, 2), (19, 1)]\n",
      "G.edges[(1, 2), (1, 3), (3, 'm')]\n",
      "[(1, 2), (1, 3), (3, 'm')]\n"
     ]
    }
   ],
   "source": [
    "import networkx as nx\n",
    "\n",
    "G = nx.Graph()\n",
    "print(\"G.degree:\"+str(G.degree))\n",
    "G.add_node(1) #添加一个节点\n",
    "print(\"G.degree:\"+str(G.degree))\n",
    "G.add_nodes_from([2,3])#add node list\n",
    "print(\"G.degree:\"+str(G.degree))\n",
    "H = nx.path_graph(20)#线性连接点的路径图\n",
    "print(\"H:\"+str(H))\n",
    "G.add_nodes_from(H)\n",
    "print(\"G.degree:\"+str(G.degree))\n",
    "print(\"G.edges:\"+str(G.edges))\n",
    "G.add_node(H)\n",
    "print(\"G.degree:\"+str(G.degree))\n",
    "print(\"G.edges:\"+str(G.edges))\n",
    "G.add_edge(1,2)#单独增加一条边\n",
    "print(\"G.edges:\"+str(G.edges))\n",
    "G.add_edges_from([(1,2),(1,3)])\n",
    "print(\"G.edges:\"+str(G.edges))\n",
    "print(\"G.degree:\"+str(G.degree))\n",
    "print(\"G.adg:\"+str(G.adj))\n",
    "print(\"G.name:\"+str(G.name))\n",
    "\n",
    "G.add_edges_from(H.edges)\n",
    "print(\"H.edges:\"+str(H.edges))\n",
    "print(\"H.degree:\"+str(H.degree))\n",
    "G.clear()\n",
    "G.add_edges_from([(1,2),(1,3)])\n",
    "G.add_node(1)\n",
    "G.add_edge(1,2)\n",
    "G.add_node(\"spam\")\n",
    "G.add_nodes_from(\"spam\")\n",
    "G.add_edge(3,'m')\n",
    "list(G.edges)\n",
    "print(\"G.edges\"+str(G.edges))\n",
    "print(list(G.edges))\n",
    "\n",
    "G2 = nx.DiGraph(G)"
   ]
  },
  {
   "cell_type": "code",
   "execution_count": null,
   "metadata": {},
   "outputs": [],
   "source": []
  },
  {
   "cell_type": "code",
   "execution_count": 205,
   "metadata": {},
   "outputs": [],
   "source": [
    "import matplotlib.pyplot as plt"
   ]
  },
  {
   "cell_type": "code",
   "execution_count": 206,
   "metadata": {},
   "outputs": [
    {
     "data": {
      "text/plain": [
       "NodeView((1, 2, 3, 'spam', 's', 'p', 'a', 'm'))"
      ]
     },
     "execution_count": 206,
     "metadata": {},
     "output_type": "execute_result"
    }
   ],
   "source": [
    "G.nodes"
   ]
  },
  {
   "cell_type": "code",
   "execution_count": 207,
   "metadata": {},
   "outputs": [
    {
     "data": {
      "text/plain": [
       "EdgeView([(1, 2), (1, 3), (3, 'm')])"
      ]
     },
     "execution_count": 207,
     "metadata": {},
     "output_type": "execute_result"
    }
   ],
   "source": [
    "G.edges"
   ]
  },
  {
   "cell_type": "code",
   "execution_count": 208,
   "metadata": {},
   "outputs": [
    {
     "data": {
      "text/plain": [
       "<matplotlib.axes._subplots.AxesSubplot at 0x1b3215a8bc8>"
      ]
     },
     "execution_count": 208,
     "metadata": {},
     "output_type": "execute_result"
    },
    {
     "data": {
      "image/png": "[encoded data removed]",
      "text/plain": [
       "<Figure size 432x288 with 1 Axes>"
      ]
     },
     "metadata": {
      "needs_background": "light"
     },
     "output_type": "display_data"
    }
   ],
   "source": [
    "plt.subplot(122)"
   ]
  },
  {
   "cell_type": "code",
   "execution_count": 209,
   "metadata": {},
   "outputs": [
    {
     "data": {
      "image/png": "[encoded data removed]",
      "text/plain": [
       "<Figure size 432x288 with 1 Axes>"
      ]
     },
     "metadata": {},
     "output_type": "display_data"
    }
   ],
   "source": [
    "nx.draw(G,with_labels=True,font_weight=\"bold\")"
   ]
  },
  {
   "cell_type": "code",
   "execution_count": 211,
   "metadata": {},
   "outputs": [
    {
     "data": {
      "text/plain": [
       "<Figure size 432x288 with 0 Axes>"
      ]
     },
     "metadata": {},
     "output_type": "display_data"
    }
   ],
   "source": [
    "plt.savefig(\"test.png\")"
   ]
  },
  {
   "cell_type": "code",
   "execution_count": null,
   "metadata": {},
   "outputs": [],
   "source": []
  }
 ],
 "metadata": {
  "kernelspec": {
   "display_name": "Python 3",
   "language": "python",
   "name": "python3"
  },
  "language_info": {
   "codemirror_mode": {
    "name": "ipython",
    "version": 3
   },
   "file_extension": ".py",
   "mimetype": "text/x-python",
   "name": "python",
   "nbconvert_exporter": "python",
   "pygments_lexer": "ipython3",
   "version": "3.7.4"
  },
  "toc": {
   "base_numbering": 1,
   "nav_menu": {},
   "number_sections": true,
   "sideBar": true,
   "skip_h1_title": false,
   "title_cell": "Table of Contents",
   "title_sidebar": "Contents",
   "toc_cell": false,
   "toc_position": {},
   "toc_section_display": true,
   "toc_window_display": false
  }
 },
 "nbformat": 4,
 "nbformat_minor": 1
}
